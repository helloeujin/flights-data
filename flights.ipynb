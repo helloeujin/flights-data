{
 "cells": [
  {
   "cell_type": "code",
   "execution_count": 269,
   "id": "1564f8b7-aecf-45df-aa47-dd5d64b3f64d",
   "metadata": {},
   "outputs": [],
   "source": [
    "import pandas as pd\n",
    "import matplotlib.pyplot as plt\n",
    "import time\n",
    "import requests\n",
    "import geopandas as gpd\n",
    "from datetime import datetime, timedelta\n",
    "import contextily as ctx"
   ]
  },
  {
   "cell_type": "code",
   "execution_count": 270,
   "id": "1ccee3e7-4e71-4d7d-ae61-946712ddcbf9",
   "metadata": {
    "tags": []
   },
   "outputs": [],
   "source": [
    "import matplotlib.animation as animation\n"
   ]
  },
  {
   "cell_type": "code",
   "execution_count": 271,
   "id": "cb67f84b-35e2-46e1-967e-de3d6d6623fd",
   "metadata": {
    "tags": []
   },
   "outputs": [],
   "source": [
    "# Columns to be used in the DataFrame\n",
    "columns = ['icao24', 'callsign', 'origin_country', 'time_position', 'last_contact', \n",
    "           'longitude', 'latitude', 'baro_altitude', 'on_ground', 'velocity', \n",
    "           'true_track', 'vertical_rate', 'sensors', 'geo_altitude', 'squawk', \n",
    "           'spi', 'position_source']"
   ]
  },
  {
   "cell_type": "code",
   "execution_count": 272,
   "id": "5d651d2b-d6f2-45d0-8e2e-76d60bfeb31f",
   "metadata": {
    "tags": []
   },
   "outputs": [],
   "source": [
    "# Microsoft outage 기간 동안의 시간 설정\n",
    "start_time = datetime(2024, 7, 19, 0, 0, 0) #(2024, 7, 19, 10, 0, 0)\n",
    "end_time = datetime(2024, 7, 19, 23, 59, 59) #(2024, 7, 19, 14, 0, 0)\n",
    "\n",
    "# # 시간 범위를 Unix 타임스탬프로 변환\n",
    "# start_timestamp = int(start_time.timestamp())\n",
    "# end_timestamp = int(end_time.timestamp())"
   ]
  },
  {
   "cell_type": "code",
   "execution_count": 273,
   "id": "3af0572b-ed01-44c5-90b3-079e944a4108",
   "metadata": {},
   "outputs": [],
   "source": [
    "# 데이터 가져오기 함수\n",
    "def fetch_flight_data(start_timestamp, end_timestamp):\n",
    "    url = 'https://opensky-network.org/api/states/all'\n",
    "    params = {\n",
    "        'begin': start_timestamp,\n",
    "        'end': end_timestamp,\n",
    "        'lamin': 49.9,\n",
    "        'lamax': 61.0,\n",
    "        'lomin': -10.5,\n",
    "        'lomax': 1.8\n",
    "    }\n",
    "    try:\n",
    "        response = requests.get(url, params=params)\n",
    "        response.raise_for_status()\n",
    "        data = response.json()\n",
    "        return data\n",
    "    except requests.exceptions.RequestException as e:\n",
    "        print(f\"{start_timestamp}에서 {end_timestamp}까지의 기간에 대한 요청 실패: {e}\")\n",
    "        return None\n",
    "\n"
   ]
  },
  {
   "cell_type": "code",
   "execution_count": 274,
   "id": "6a76b10d-93e3-42e5-b596-8f561ac16be2",
   "metadata": {
    "tags": []
   },
   "outputs": [],
   "source": [
    "# geo_df = fetch_flight_data()\n",
    "# geo_df.to_csv('flightdata.csv')\n",
    "# geo_df"
   ]
  },
  {
   "cell_type": "code",
   "execution_count": 275,
   "id": "85d8c696-1f6e-4db6-8d89-e0282d23e7c7",
   "metadata": {
    "tags": []
   },
   "outputs": [],
   "source": [
    "# # Plot the aircraft positions\n",
    "# plt.figure(figsize=(10, 6))\n",
    "# geo_df.plot(marker='o', color='red', markersize=5, alpha=0.5)\n",
    "# plt.title('Aircraft Positions on July 19, 2024')\n",
    "# plt.xlabel('Longitude')\n",
    "# plt.ylabel('Latitude')\n",
    "# plt.show()"
   ]
  },
  {
   "cell_type": "code",
   "execution_count": null,
   "id": "e60fdad1-47de-426e-aebe-6cfc5b040ba7",
   "metadata": {
    "tags": []
   },
   "outputs": [],
   "source": [
    "# 모든 비행 데이터를 저장할 빈 DataFrame 초기화\n",
    "all_flight_data = pd.DataFrame()\n",
    "\n",
    "# 각 시간마다 데이터를 가져와 DataFrame에 추가\n",
    "current_time = start_time\n",
    "while current_time < end_time:\n",
    "    next_time = current_time + timedelta(hours=1) #(minutes=30) (hours=1)\n",
    "    start_timestamp = int(current_time.timestamp())\n",
    "    end_timestamp = int(next_time.timestamp())\n",
    "    \n",
    "    for attempt in range(5):  # 5번의 시도 재시도 로직\n",
    "        data = fetch_flight_data(start_timestamp, end_timestamp)\n",
    "        if data:\n",
    "            if 'states' in data and data['states']:\n",
    "                # 반환된 데이터의 열 이름을 확인하고 동적으로 처리\n",
    "                columns = [\"icao24\", \"callsign\", \"origin_country\", \"time_position\", \"last_contact\", \n",
    "                           \"longitude\", \"latitude\", \"baro_altitude\", \"on_ground\", \"velocity\", \n",
    "                           \"true_track\", \"vertical_rate\", \"sensors\", \"geo_altitude\", \"squawk\", \n",
    "                           \"spi\", \"position_source\"]\n",
    "                if len(data['states'][0]) == len(columns):\n",
    "                    df = pd.DataFrame(data['states'], columns=columns)\n",
    "                    df['timestamp'] = current_time\n",
    "                    all_flight_data = pd.concat([all_flight_data, df], ignore_index=True)\n",
    "                    break\n",
    "                else:\n",
    "                    print(f\"{current_time}부터 시작하는 기간에 대한 데이터 구조가 예상과 다릅니다.\")\n",
    "                    print(f\"예상된 열 수: {len(columns)}, 반환된 열 수: {len(data['states'][0])}\")\n",
    "                    print(f\"반환된 데이터: {data['states'][0]}\")\n",
    "                    break\n",
    "            else:\n",
    "                print(f\"{current_time}부터 시작하는 기간에 대한 데이터 없음\")\n",
    "                break\n",
    "        else:\n",
    "            print(f\"{start_timestamp}에서 {end_timestamp}까지의 기간에 대한 {attempt + 1}/5 재시도 중\")\n",
    "            time.sleep(10 * (attempt + 1))  # 재시도 간 대기 시간 증가\n",
    "    \n",
    "    current_time = next_time\n",
    "    time.sleep(1)  # 각 요청 사이에 1초 대기\n",
    "\n",
    "# 결합된 DataFrame의 처음 몇 줄 표시\n",
    "print(all_flight_data.head())"
   ]
  },
  {
   "cell_type": "code",
   "execution_count": null,
   "id": "be8da003-bc2a-430a-8885-3fe1c2315b27",
   "metadata": {
    "tags": []
   },
   "outputs": [],
   "source": [
    "all_flight_data.to_csv('uk_flights_july_19_2024_30min.csv', index=False)"
   ]
  },
  {
   "cell_type": "code",
   "execution_count": null,
   "id": "0cab8ea3-edef-4dc0-8242-222f59c8d612",
   "metadata": {
    "tags": []
   },
   "outputs": [],
   "source": [
    "all_flight_data"
   ]
  },
  {
   "cell_type": "code",
   "execution_count": null,
   "id": "1bb53829-21ec-46fb-a7e7-c6b18e9fa3a2",
   "metadata": {
    "tags": []
   },
   "outputs": [],
   "source": [
    "# 항공기 분류 -> icao24 (총 318개 항공기)"
   ]
  },
  {
   "cell_type": "code",
   "execution_count": null,
   "id": "5d9b2820-608e-4c0a-b4b8-d1f58a868827",
   "metadata": {},
   "outputs": [],
   "source": []
  }
 ],
 "metadata": {
  "kernelspec": {
   "display_name": "Python 3 (ipykernel)",
   "language": "python",
   "name": "python3"
  },
  "language_info": {
   "codemirror_mode": {
    "name": "ipython",
    "version": 3
   },
   "file_extension": ".py",
   "mimetype": "text/x-python",
   "name": "python",
   "nbconvert_exporter": "python",
   "pygments_lexer": "ipython3",
   "version": "3.8.16"
  }
 },
 "nbformat": 4,
 "nbformat_minor": 5
}
